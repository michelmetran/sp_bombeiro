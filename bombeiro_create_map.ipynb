{
 "cells": [
  {
   "cell_type": "markdown",
   "id": "excess-process",
   "metadata": {},
   "source": [
    "# Introdução"
   ]
  },
  {
   "cell_type": "code",
   "execution_count": null,
   "id": "fixed-settle",
   "metadata": {},
   "outputs": [],
   "source": [
    "import os\n",
    "import re\n",
    "import time\n",
    "import json\n",
    "import folium\n",
    "import random\n",
    "import requests\n",
    "import numpy as np\n",
    "import pandas as pd\n",
    "import seaborn as sns\n",
    "import geopandas as gpd\n",
    "from folium import plugins\n",
    "from osgeo import gdal, osr\n",
    "from bs4 import BeautifulSoup\n",
    "from tqdm.notebook import trange, tqdm"
   ]
  },
  {
   "cell_type": "markdown",
   "id": "located-elements",
   "metadata": {},
   "source": [
    "<br>\n",
    "\n",
    "# Join Data"
   ]
  },
  {
   "cell_type": "code",
   "execution_count": null,
   "id": "prerequisite-alfred",
   "metadata": {},
   "outputs": [],
   "source": [
    "# Lê o arquivo csv com o nome dos municípios\n",
    "df = pd.read_csv(\n",
    "    'https://raw.githubusercontent.com/michelmetran/sp_bombeiro/main/data/tabs/tab_municipios_bombeiros.csv',\n",
    ")\n",
    "\n",
    "# Lê o arquivo csv com o nome dos municípios\n",
    "gdf = gpd.read_file(\n",
    "    'https://raw.githubusercontent.com/michelmetran/sp/main/data/shps/sp_250k_wgs84.geojson',\n",
    ")\n",
    "gdf.drop(['municipio_nome'], axis=1, inplace=True)\n",
    "gdf['id_municipio'] = gdf['id_municipio'].astype(int)\n",
    "gdf['geometry'] = gdf.simplify(0.0015)\n",
    "\n",
    "# Merge\n",
    "gdf = gdf.merge(\n",
    "    df,\n",
    "    on='id_municipio',\n",
    "    how='left'\n",
    ")\n",
    "\n",
    "# Results\n",
    "gdf.head()"
   ]
  },
  {
   "cell_type": "markdown",
   "id": "committed-shepherd",
   "metadata": {},
   "source": [
    "<br>\n",
    "\n",
    "## Create pop up's column"
   ]
  },
  {
   "cell_type": "code",
   "execution_count": null,
   "id": "current-budapest",
   "metadata": {},
   "outputs": [],
   "source": [
    "# Add Field\n",
    "def popup_html(row):\n",
    "    tel_1 = str(row['telefone_1']).replace('-', '').replace(')', '').replace('(', '+55').replace(' ', '')\n",
    "    tel_2 = str(row['telefone_2']).replace('-', '').replace(')', '').replace('(', '+55').replace(' ', '')\n",
    "    \n",
    "    html = \"\"\"\n",
    "    <div>\n",
    "    <p><b>{}</b> pertence ao:\n",
    "    <h4><b>{}</b></h4></p>\n",
    "    <p><b>Sede:</b><br>\n",
    "    {}{}{}<br>\n",
    "    {}<br>\n",
    "    {}<br>\n",
    "    {}</p>\n",
    "    <p><b>Contatos:</b><br>\n",
    "    {}<br>\n",
    "    {}{}</p>\n",
    "    </div>\n",
    "    \"\"\".format(\n",
    "        '' if row['municipio_nome'] is np.NaN else '{}'.format(row['municipio_nome']),\n",
    "        '' if row['gb_nome']        is np.NaN else '{}'.format(row['gb_nome']),        \n",
    "        '' if row['endereco']       is np.NaN else '{}'.format(row['endereco']),\n",
    "        '' if row['numero']         is np.NaN else ', {}'.format(row['numero']),\n",
    "        '' if row['complemento']    is np.NaN or np.isnan(row['complemento']) else ' - {}'.format(row['complemento']),\n",
    "        '' if row['bairro']         is np.NaN else 'Bairro: {}'.format(row['bairro']),\n",
    "        '' if row['municipio']      is np.NaN else 'Município: {}'.format(row['municipio']),\n",
    "        '' if row['cep']            is np.NaN else 'CEP: {}'.format(row['cep']),\n",
    "        '' if row['email']          is np.NaN else 'E-mail: <a href=\"mailto:{}\">{}</a>'.format(row['email'], row['email']),\n",
    "        '' if row['telefone_1']     is np.NaN else 'Telefone: <a href=\"tel:{}\">{}</a>'.format(tel_1, row['telefone_1']),\n",
    "        '' if row['telefone_2']     is np.NaN else ' / <a href=\"tel:{}\">{}</a>'.format(tel_2, row['telefone_2']),        \n",
    "    )\n",
    "    \n",
    "    html = html.replace('\\n','')    \n",
    "    html = re.sub('\\s\\s+' , ' ', html) # Remove Espaços no meio\n",
    "    html = html.strip()\n",
    "    return html"
   ]
  },
  {
   "cell_type": "code",
   "execution_count": null,
   "id": "owned-turtle",
   "metadata": {},
   "outputs": [],
   "source": [
    "# Calculate PopUps\n",
    "gdf['popup'] = gdf.apply(popup_html, axis=1)"
   ]
  },
  {
   "cell_type": "markdown",
   "id": "about-student",
   "metadata": {},
   "source": [
    "<br>\n",
    "\n",
    "## Adjust Table"
   ]
  },
  {
   "cell_type": "code",
   "execution_count": null,
   "id": "helpful-coordinator",
   "metadata": {},
   "outputs": [],
   "source": [
    "# Delete Columns\n",
    "gdf.drop([\n",
    "    'id_municipio', 'endereco', 'numero',\n",
    "    'complemento', 'bairro', 'municipio', \n",
    "    'cep', 'email', 'telefone_1', 'telefone_2',\n",
    "    'id_gbmar', 'id_gb', 'zona',\n",
    "    'comando_sigla', 'comando_nome', \n",
    "], axis=1, inplace=True)\n",
    "print(gdf.columns)\n",
    "\n",
    "# Save geojson\n",
    "gdf.to_file(\n",
    "    os.path.join('data', 'shps', 'sp_bombeiro.geojson'),\n",
    "    driver='GeoJSON',\n",
    "    encoding='utf-8'\n",
    ")\n",
    "\n",
    "# Results\n",
    "gdf.head()"
   ]
  },
  {
   "cell_type": "markdown",
   "id": "catholic-david",
   "metadata": {},
   "source": [
    "## Get Centroid"
   ]
  },
  {
   "cell_type": "code",
   "execution_count": null,
   "id": "documentary-domain",
   "metadata": {},
   "outputs": [],
   "source": [
    "def get_centroid(gdf):\n",
    "    gdf['apenasparacentroid'] = 35\n",
    "    gdf_dissolve = gdf.dissolve(by='apenasparacentroid')\n",
    "    gdf_centroid = gdf_dissolve.representative_point()\n",
    "    gdf = gdf.drop('apenasparacentroid', axis=1)\n",
    "    return [float(gdf_centroid.y), float(gdf_centroid.x)]"
   ]
  },
  {
   "cell_type": "code",
   "execution_count": null,
   "id": "revolutionary-remainder",
   "metadata": {},
   "outputs": [],
   "source": [
    "list_centroid = get_centroid(gdf)\n",
    "list_centroid"
   ]
  },
  {
   "cell_type": "markdown",
   "id": "dimensional-glenn",
   "metadata": {},
   "source": [
    "## Folium"
   ]
  },
  {
   "cell_type": "code",
   "execution_count": null,
   "id": "recovered-mechanics",
   "metadata": {},
   "outputs": [],
   "source": [
    "def map_bomb(input_geojson, bbox):\n",
    "    gdf = gpd.read_file(input_geojson)\n",
    "    \n",
    "    # Column with category\n",
    "    col_categories = 'gb_nome'\n",
    "    \n",
    "    # Set palette\n",
    "    palette_polygon = 'Paired'\n",
    "\n",
    "    # Get list of unique values\n",
    "    categories = set(gdf[col_categories])\n",
    "    categories = list(categories)\n",
    "    categories.sort()\n",
    "\n",
    "    # See the palette chosed\n",
    "    pal = sns.color_palette(palette_polygon, n_colors=len(categories))\n",
    "\n",
    "    # Set dictionary\n",
    "    color_polygon = dict(zip(categories, pal.as_hex()))\n",
    "\n",
    "    # Create Map\n",
    "    m = folium.Map(\n",
    "        location=[-22.545968889465207, -49.56185387118866],\n",
    "        zoom_start=6,\n",
    "        min_zoom=6,\n",
    "        max_zoom=11,\n",
    "        max_bounds=True,\n",
    "        min_lon = bbox['min_lon']*(101/100),\n",
    "        max_lon = bbox['max_lon']*(99/100),        \n",
    "        min_lat = bbox['min_lat']*(101/100),\n",
    "        max_lat = bbox['max_lat']*(99/100),\n",
    "        #zoom_delta=0.1,\n",
    "    )\n",
    "    folium.GeoJson(\n",
    "        gdf,\n",
    "        name='Bombeiros',\n",
    "        smooth_factor=1.0,\n",
    "        zoom_on_click=False,\n",
    "        embed=False,\n",
    "        style_function=lambda x: {\n",
    "            'fillColor': color_polygon[x['properties'][col_categories]],\n",
    "            'color': color_polygon[x['properties'][col_categories]],\n",
    "            'weight': 1,\n",
    "            'fillOpacity': 0.3,\n",
    "        },\n",
    "        highlight_function=lambda x: {\n",
    "            'weight': 3,\n",
    "            'fillOpacity': 0.6,\n",
    "        },\n",
    "        tooltip=folium.features.GeoJsonTooltip(\n",
    "            fields=['municipio_nome', 'gb_sigla'],\n",
    "            aliases=['Munícipio', 'Grupamento'],\n",
    "            sticky=True,\n",
    "            opacity=0.9,\n",
    "            direction='right',\n",
    "        ),\n",
    "        popup=folium.GeoJsonPopup(\n",
    "            ['popup'],\n",
    "            parse_html=False,\n",
    "            max_width='300',\n",
    "            show=False,\n",
    "            labels=False,\n",
    "            sticky=True,            \n",
    "        )        \n",
    "    ).add_to(m)\n",
    "\n",
    "    # Plugins\n",
    "    m.fit_bounds(m.get_bounds())\n",
    "    plugins.Fullscreen(\n",
    "        position='topleft',\n",
    "        title='Clique para Maximizar',\n",
    "        title_cancel='Mininizar',\n",
    "    ).add_to(m)\n",
    "    return m"
   ]
  },
  {
   "cell_type": "code",
   "execution_count": null,
   "id": "built-intervention",
   "metadata": {},
   "outputs": [],
   "source": [
    "# Map without Bounds\n",
    "bbox = {\n",
    "    'max_lat': 0,\n",
    "    'max_lon': 0,\n",
    "    'min_lat': 0,\n",
    "    'min_lon': 0,\n",
    "}\n",
    "m = map_bomb(os.path.join('data', 'shps', 'sp_bombeiro.geojson'), bbox)\n",
    "\n",
    "# Map with Bounds\n",
    "bbox = {\n",
    "    'max_lat': m.get_bounds()[1][0],\n",
    "    'min_lat': m.get_bounds()[0][0],\n",
    "    'max_lon': m.get_bounds()[1][1],\n",
    "    'min_lon': m.get_bounds()[0][1],\n",
    "}\n",
    "m = map_bomb(os.path.join('data', 'shps', 'sp_bombeiro.geojson'), bbox)\n",
    "\n",
    "# Results\n",
    "print(bbox)\n",
    "m"
   ]
  },
  {
   "cell_type": "markdown",
   "id": "electrical-graduation",
   "metadata": {},
   "source": [
    "<br>\n",
    "\n",
    "# Save Map"
   ]
  },
  {
   "cell_type": "code",
   "execution_count": null,
   "id": "previous-possession",
   "metadata": {},
   "outputs": [],
   "source": [
    "os.makedirs('maps', exist_ok=True)\n",
    "m.save(os.path.join('maps', 'bombeiro_map.html'))\n",
    "m.save(os.path.join('..', '..', '..', 'case_django', 'divadmin', 'templates', 'bombeiro_map.html'))"
   ]
  }
 ],
 "metadata": {
  "kernelspec": {
   "display_name": "Python [conda env:pablocarreira-py38] *",
   "language": "python",
   "name": "conda-env-pablocarreira-py38-py"
  },
  "language_info": {
   "codemirror_mode": {
    "name": "ipython",
    "version": 3
   },
   "file_extension": ".py",
   "mimetype": "text/x-python",
   "name": "python",
   "nbconvert_exporter": "python",
   "pygments_lexer": "ipython3",
   "version": "3.8.8"
  },
  "toc-autonumbering": true
 },
 "nbformat": 4,
 "nbformat_minor": 5
}
