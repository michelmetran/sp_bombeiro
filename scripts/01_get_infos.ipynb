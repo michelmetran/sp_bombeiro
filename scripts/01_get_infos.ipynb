{
 "cells": [
  {
   "cell_type": "markdown",
   "id": "c6057380",
   "metadata": {},
   "source": [
    "<br>\n",
    "\n",
    "# Introdução\n",
    "\n",
    "Busca-se tabular as informações sobre a Divisão Administrativa do Corpo de Bombeiros, visando saber qual contatar, qual a área de abrangência de cada um dos \"Grupamentos de Bombeiros\" existentes.\n",
    "\n",
    "No [*site*](http://www.corpodebombeiros.sp.gov.br/) do Corpo de Bombeiros tem mapas em *.jpg* que apresentam a divisão administrativa, indicando qual \"Grupamento de Bombeiros\" atua em cada um dos 645 municípios do Estado de São Paulo.\n",
    "\n",
    "Portanto, a idéia é fazer o *download* das imagens, georreferencia-las. Uma vez feito isso, manualmente, definiu-se na tabela de atributos de um *shapefile* qual o ID do \"Grupamento de Bombeiros\". Uma vez feito isso, torna-se possível \"linkar\" as informações."
   ]
  },
  {
   "cell_type": "code",
   "execution_count": null,
   "id": "3fa17789",
   "metadata": {},
   "outputs": [],
   "source": [
    "import os\n",
    "import re\n",
    "import time\n",
    "import random\n",
    "import requests\n",
    "import numpy as np\n",
    "import pandas as pd\n",
    "import geopandas as gpd\n",
    "\n",
    "from bs4 import BeautifulSoup\n",
    "from osgeo import gdal, osr\n",
    "from tqdm.notebook import trange, tqdm"
   ]
  },
  {
   "cell_type": "markdown",
   "id": "c70faba7",
   "metadata": {},
   "source": [
    "<br>\n",
    "\n",
    "## *Download* de imagens\n",
    "\n",
    "Inicialmente definiu-se uma função genérica, para fazer o *download* de arquivos, renomeando-os."
   ]
  },
  {
   "cell_type": "code",
   "execution_count": null,
   "id": "dc342716",
   "metadata": {},
   "outputs": [],
   "source": [
    "def download_urls(urls, path, GetFilenameFromURL=True):\n",
    "    \"\"\"\n",
    "    Function to download list of files with a progress bar.\n",
    "    :param urls: Lista ou tuple, a depender da função #\n",
    "    :param path: Local onde os arquivos serão inseridos\n",
    "    :param GetFilenameFromURL: Se VERDADEIRO, a função irá nomear o arquivo conforme o link das lista das URLs.\n",
    "    Se FALSO, a função irá nomear o arquivo conforme string definida no tuple das URLs\n",
    "    \"\"\"\n",
    "    \n",
    "    # Reset Interactions\n",
    "    i = 0\n",
    "    n_urls = len(urls)\n",
    "\n",
    "    for n_url in trange(n_urls, desc='Total'):\n",
    "        # Download path and file name\n",
    "        if GetFilenameFromURL:\n",
    "            url = urls[i]\n",
    "            filename = urls[i].rsplit('/', 1)[1]\n",
    "        else:\n",
    "            url = urls[i][0]\n",
    "            filename = urls[i][1]\n",
    "\n",
    "        # File size\n",
    "        r = requests.get(url, stream=True)\n",
    "        chunk_size = 1024 * 1024\n",
    "        total_size = int(r.headers['content-length'])\n",
    "\n",
    "        # Download the file from 'url' and save it locally under 'filename'\n",
    "        with open(os.path.join(path, filename), 'wb') as f:\n",
    "            for data in tqdm(\n",
    "                iterable = r.iter_content(chunk_size=chunk_size),\n",
    "                total = int(total_size/chunk_size),\n",
    "                unit = 'MB',\n",
    "                desc = '{}/{}'.format(str(i+1), str(n_urls))):\n",
    "                f.write(data)\n",
    "\n",
    "        # Interactions\n",
    "        i = i+1\n",
    "\n",
    "        # Definir um intervalo de tempo\n",
    "        time.sleep(random.randint(1, 3))"
   ]
  },
  {
   "cell_type": "markdown",
   "id": "ab68d336",
   "metadata": {},
   "source": [
    "<br>\n",
    "\n",
    "Usando a biblioteca *BeatifulSoup* foi possível \"ler\" o código-fonte da página e buscar os *links* para as imagens em *.jpg*. São esses os links que serão utilizados para fazer o *download* dos arquivos na pasta desejada."
   ]
  },
  {
   "cell_type": "code",
   "execution_count": null,
   "id": "89a6e82d",
   "metadata": {},
   "outputs": [],
   "source": [
    "url = 'http://www.corpodebombeiros.sp.gov.br/portalcb/_institucional/'\n",
    "r = requests.get(url)\n",
    "soup = BeautifulSoup(r.content, 'html.parser')"
   ]
  },
  {
   "cell_type": "code",
   "execution_count": null,
   "id": "b361b447",
   "metadata": {},
   "outputs": [],
   "source": [
    "url_partial = '../_institucional/mapas/'\n",
    "\n",
    "list_urls = []\n",
    "for i in soup.find_all('a', href=re.compile(url_partial)):\n",
    "    url_img = os.path.join(\n",
    "        url,\n",
    "        os.path.basename(os.path.normpath(url_partial)),\n",
    "        os.path.basename(os.path.normpath(i['href'])))    \n",
    "    list_urls.append(url_img)"
   ]
  },
  {
   "cell_type": "markdown",
   "id": "01092b41",
   "metadata": {},
   "source": [
    "<br>\n",
    "\n",
    "Os nomes dos quatro arquivos não agradaram e portanto criei uma lista com os quatro nomes que gostaria de usar. Feito isso, foram definidas *tuplas*, sendo esse o formato que a função que fazer o download e renomeia requer."
   ]
  },
  {
   "cell_type": "code",
   "execution_count": null,
   "id": "266ce217",
   "metadata": {},
   "outputs": [],
   "source": [
    "# Set filenames\n",
    "filenames = ['gb_capital.jpg', 'gb_rmsp.jpg', 'gb_interior.jpg', 'gb_mar.jpg']\n",
    "dict_urls = {list_urls[i]: filenames[i] for i in range(len(list_urls))}\n",
    "\n",
    "# Convert Dictionary into Tuples\n",
    "tuples_urls = dict_urls.items()\n",
    "tuples_urls = list(tuples_urls)\n",
    "tuples_urls"
   ]
  },
  {
   "cell_type": "code",
   "execution_count": null,
   "id": "f3101591",
   "metadata": {},
   "outputs": [],
   "source": [
    "path_bombeiro = os.path.join('data', 'rasters')\n",
    "download_urls(tuples_urls, path_bombeiro, GetFilenameFromURL=False)"
   ]
  },
  {
   "cell_type": "markdown",
   "id": "260f86e1",
   "metadata": {},
   "source": [
    "<br>\n",
    "\n",
    "## Georreference Images\n",
    "\n",
    "Como as imagens em *.jpg* não tem qualquer refência espacial, foi necessário gerreferencia-las.\n",
    "Para isso foi utilizada a biblioteca *gdal*.\n",
    "\n",
    "Para definir os parâmetros necessários para o georreferenciamento (*Ground Points Control*), foi utilizado o QGIS. Alguns problemas de visualização dos mapas no QGIS foram encontrados, por exceder o número de pixels possívels de serem apresentados. Segue o erro:\n",
    "\n",
    "```bash\n",
    "#case_divadmin/data/institutions/sp_bombeiro/rasters/gb_capital.jpg, band 3: IReadBlock failed at X offset 0, Y offset 0: Reading this image would require libjpeg to allocate at least 114696000 bytes. This is disabled since above the 104857600 threshold. You may override this restriction by defining the GDAL_ALLOW_LARGE_LIBJPEG_MEM_ALLOC environment variable, or recompile GDAL by defining the GDAL_LIBJPEG_LARGEST_MEM_ALLOC macro to a value greater than 104857600,/home/michel/Documents/Geodata/SourceCode/case_divadmin/d\n",
    "```\n",
    "\n",
    "É possível corrigir o problema inserindo o seguinte código no arquivo *.bashrc*. Sendo necessário reiniciar.\n",
    "```\n",
    "sudo gedit ~/.bashrc\n",
    "export GDAL_ALLOW_LARGE_LIBJPEG_MEM_ALLOC=YES\n",
    "```\n",
    "\n",
    "Outra alternativa é inserir o código abaixo no \"Python Console\" na sessão do QGIS.\n",
    "\n",
    "```python\n",
    "import gdal\n",
    "gdal.SetConfigOption('GDAL_ALLOW_LARGE_LIBJPEG_MEM_ALLOC', 'YES')\n",
    "```\n",
    "\n",
    "\n",
    "\n",
    "<div class=\"alert alert-warning\">\n",
    "<b>OBSERVAÇÃO</b><br/>\n",
    "    Esse <i>post</i> tem a finalidade de mostrar os comandos básicos e me deixar com uma \"cola\" rápida para meu uso cotidiano.<br/>\n",
    "    Todas os códigos são exemplificativos e podem/devem ser alterados, indicando o nome dos arquivos e diretórios corretamente.\n",
    "    Outra alternativa é inserir o código abaixo no \"Python Console\" na sessão do QGIS.\n",
    "    <br>\n",
    "    <br>\n",
    "    \n",
    "\n",
    "<samp>\n",
    "    import gdal<br>\n",
    "    gdal.SetConfigOption('GDAL_ALLOW_LARGE_LIBJPEG_MEM_ALLOC', 'YES')\n",
    "</samp>\n",
    "</div>"
   ]
  },
  {
   "cell_type": "markdown",
   "id": "0ac96125",
   "metadata": {},
   "source": [
    "### Função"
   ]
  },
  {
   "cell_type": "code",
   "execution_count": null,
   "id": "5adbe048",
   "metadata": {},
   "outputs": [],
   "source": [
    "def georeferencing(src_filename, dst_filename, gcp_list):\n",
    "    # \n",
    "    src_ds = gdal.Open(src_filename, gdal.GA_ReadOnly)\n",
    "    driver = gdal.GetDriverByName('JPEG')\n",
    "\n",
    "    # Open destination dataset\n",
    "    dst_ds = driver.CreateCopy(dst_filename, src_ds, 0)\n",
    "\n",
    "    # Get raster projection\n",
    "    srs = osr.SpatialReference()\n",
    "    srs.ImportFromEPSG(4674)\n",
    "    dst_wkt = srs.ExportToWkt()\n",
    "\n",
    "    # Apply the GCPs to the open output file:\n",
    "    dst_ds.SetGCPs(gcp_list, dst_wkt)\n",
    "\n",
    "    # Warp Image\n",
    "    dst_ds = gdal.Warp(dst_filename, dst_ds, dstSRS=dst_wkt)\n",
    "\n",
    "    # Close files\n",
    "    src_ds = None\n",
    "    dst_ds = None\n",
    "    \n",
    "    print(f'Arquivo \"{src_filename}\" georreferenciado.')"
   ]
  },
  {
   "cell_type": "markdown",
   "id": "b09a4cf4",
   "metadata": {},
   "source": [
    "### Interior"
   ]
  },
  {
   "cell_type": "code",
   "execution_count": null,
   "id": "5da1c7eb",
   "metadata": {},
   "outputs": [],
   "source": [
    "# Interior\n",
    "gcp_interior = []\n",
    "gcp_interior.append(gdal.GCP(-53.088, -22.658, 0, 94,   1085))\n",
    "gcp_interior.append(gdal.GCP(-44.161, -22.678, 0, 2922, 1092))\n",
    "gcp_interior.append(gdal.GCP(-48.897, -20.442, 0, 1422, 384))\n",
    "gcp_interior.append(gdal.GCP(-48.529, -25.101, 0, 1538, 1860))\n",
    "\n",
    "georeferencing(\n",
    "    os.path.join(path_bombeiro, 'gb_interior.jpg'),\n",
    "    os.path.join(path_bombeiro, 'geo_gb_interior.jpg'),\n",
    "    gcp_interior,\n",
    ")"
   ]
  },
  {
   "cell_type": "markdown",
   "id": "98189c6b",
   "metadata": {},
   "source": [
    "### RMSP"
   ]
  },
  {
   "cell_type": "code",
   "execution_count": null,
   "id": "f44842f6",
   "metadata": {},
   "outputs": [],
   "source": [
    "# RMSP\n",
    "gcp_rmsp = []\n",
    "gcp_rmsp.append(gdal.GCP(-47.19992445343228127,-24.00057005235778007,0,46.22207446808516806,1710.09109042553200197))\n",
    "gcp_rmsp.append(gdal.GCP(-45.69482925159626063,-23.63079105379386391,0,2988.91260804521380123,990.57858211436268903))\n",
    "gcp_rmsp.append(gdal.GCP(-46.53544614046614214,-23.36327027147718383,0,1344.75577626329209124,468.2524517952102201))\n",
    "gcp_rmsp.append(gdal.GCP(-46.77483081914691354,-24.00324657360952685,0,878.35251828456978274,1718.67324634307919951))\n",
    "\n",
    "georeferencing(\n",
    "    os.path.join(path_bombeiro, 'gb_rmsp.jpg'),\n",
    "    os.path.join(path_bombeiro, 'geo_gb_rmsp.jpg'),\n",
    "    gcp_rmsp,\n",
    ")"
   ]
  },
  {
   "cell_type": "markdown",
   "id": "acf188a1",
   "metadata": {},
   "source": [
    "### Capital"
   ]
  },
  {
   "cell_type": "code",
   "execution_count": null,
   "id": "68044820",
   "metadata": {},
   "outputs": [],
   "source": [
    "# Capital\n",
    "gcp_capital = []\n",
    "gcp_capital.append(gdal.GCP(-46.54915525056139103,-23.35609585395840426,0,1767.96235679214441916,173.52373158756142857))\n",
    "gcp_capital.append(gdal.GCP(-46.77240003062176044,-24.0062705463104642,0,515.63666121113021745,3819.83960720131017297))\n",
    "gcp_capital.append(gdal.GCP(-46.57900155611972082,-23.59953641000311464,0,1601.97054009820453757,1538.68330605564642614))\n",
    "gcp_capital.append(gdal.GCP(-46.79950529616165511,-23.47128676778620004,0,363.83960720131642574,819.09574468085168064))\n",
    "\n",
    "georeferencing(\n",
    "    os.path.join(path_bombeiro, 'gb_capital.jpg'),\n",
    "    os.path.join(path_bombeiro, 'geo_gb_capital.jpg'),\n",
    "    gcp_capital,\n",
    ")"
   ]
  },
  {
   "cell_type": "markdown",
   "id": "8fb4a12f",
   "metadata": {},
   "source": [
    "### Mar"
   ]
  },
  {
   "cell_type": "code",
   "execution_count": null,
   "id": "2499189c",
   "metadata": {},
   "outputs": [],
   "source": [
    "# Mar\n",
    "gcp_mar = []\n",
    "gcp_mar.append(gdal.GCP(-48.0989060186612889,-25.31117216047202234,0,240.17103109656343918,1854.25378477905019281))\n",
    "gcp_mar.append(gdal.GCP(-44.72370514232069638,-23.3673844646437594,0,2484.78403743863009367,561.29569864975394466))\n",
    "gcp_mar.append(gdal.GCP(-46.39932135348571762,-24.03377814564129267,0,1370.76659676759936701,1003.88551043371489868))\n",
    "\n",
    "georeferencing(\n",
    "    os.path.join(path_bombeiro, 'gb_mar.jpg'),\n",
    "    os.path.join(path_bombeiro, 'geo_gb_mar.jpg'),\n",
    "    gcp_mar,\n",
    ")"
   ]
  },
  {
   "cell_type": "markdown",
   "id": "8c426779",
   "metadata": {},
   "source": [
    "<br>\n",
    "\n",
    "## Dados Espaciais\n",
    "\n",
    "Usando o código *get_spatial_data.ipynb* foi possível baixar a malha municipal do estado de São Paulo do [*site* do IBGE](https://geoftp.ibge.gov.br/organizacao_do_territorio/malhas_territoriais/malhas_municipais/municipio_2020/UFs/SP/SP_Municipios_2020.zip). Nos códigos abaixo o arquivo *shapefile* é lido, são feitos pequenos ajustes para ter um material mais \"limpo\" para definir, manualmente, quais os \"Grupamentos de Bombeiro\" que atual em cada um dos municípios."
   ]
  },
  {
   "cell_type": "code",
   "execution_count": null,
   "id": "f71f89d1",
   "metadata": {},
   "outputs": [],
   "source": [
    "# Lê o arquivo shapefile\n",
    "file = 'sp_ibge_250k'\n",
    "shp = os.path.join('data', 'shps', '{}.shp'.format(file))\n",
    "gdf = gpd.read_file(shp)\n",
    "\n",
    "# Deleta colunas\n",
    "gdf.drop(['SIGLA_UF', 'AREA_KM2'], axis=1, inplace=True)\n",
    "\n",
    "# Renomeia colunas\n",
    "gdf.rename(columns={'CD_MUN':'id_municipio'}, inplace=True)\n",
    "gdf.rename(columns={'NM_MUN':'municipio_nome'}, inplace=True)\n",
    "\n",
    "# Reordena colunas\n",
    "gdf['ib_gb'] = 1\n",
    "gdf = gdf[['id_municipio', 'municipio_nome', 'ib_gb', 'geometry']]\n",
    "\n",
    "# ATENÇÃO: SÓ EXECUTAR SE FOR REFAZER A CLASSIFICAÇÃO MANUALMENTE NO QGIS!\n",
    "#gdf.to_file(os.path.join('data', 'shps', 'div_admin.shp'), encoding='utf-8')\n",
    "\n",
    "# Results\n",
    "gdf.head()"
   ]
  },
  {
   "cell_type": "markdown",
   "id": "b20ebfce",
   "metadata": {},
   "source": [
    "<br>\n",
    "\n",
    "## Dados Tabulares\n",
    "\n",
    "Por meio do [*site* oficial](http://www.corpodebombeiros.sp.gov.br/portalcb/_institucional/) foi possível obter as informações sobre os \"Comandos\", e seus respectivos \"Grupamentos\".\n",
    "\n",
    "Em *sites* não oficiais, tais como o [*site* dos bombeiros socorristas](http://www.bombeirossocorristas.com.br/dicas?id=99/departamentos_do_corpo_de_bombeiros_da_policia_militar_do_estado_de_sao_paulo_), foi possível obter o endereço dos \"Grupamentos de Bombeiros\"."
   ]
  },
  {
   "cell_type": "code",
   "execution_count": null,
   "id": "881c1f37",
   "metadata": {},
   "outputs": [],
   "source": [
    "# Lê o arquivo csv com todos os atributos de cada um dos Grupamentos de Bombeiros\n",
    "df = pd.read_csv(\n",
    "    os.path.join('data', 'tabs', 'tab_bombeiro.csv'),    \n",
    ").fillna(value=np.NaN)\n",
    "\n",
    "# Define zero\n",
    "df['numero'] = df['numero'].fillna(0)\n",
    "\n",
    "# Convert para Inteiro\n",
    "df['numero'] = df['numero'].astype(int)\n",
    "\n",
    "# Results\n",
    "df.head()"
   ]
  },
  {
   "cell_type": "code",
   "execution_count": null,
   "id": "fdc2bf5e",
   "metadata": {},
   "outputs": [],
   "source": [
    "# Lê o arquivo shapefile com os códigos dos municípios e ID do Grupamento de Bombeiros\n",
    "gdf = gpd.read_file(\n",
    "    os.path.join('data', 'shps', 'div_admin.shp'),\n",
    ")\n",
    "# Select Columns\n",
    "gdf = gdf[['id_mun', 'id_gb', 'id_gbmar']].copy()\n",
    "\n",
    "gdf['id_mun'] = gdf['id_mun'].astype(int)\n",
    "\n",
    "# Results\n",
    "gdf.head()"
   ]
  },
  {
   "cell_type": "code",
   "execution_count": null,
   "id": "306c8c27",
   "metadata": {},
   "outputs": [],
   "source": [
    "# Lê o arquivo csv com o nome dos municípios\n",
    "df_mun = pd.read_csv(\n",
    "    'https://raw.githubusercontent.com/michelmetran/sp/main/data/tabs/tab_municipios.csv',\n",
    "    usecols=['id_municipio', 'municipio_nome']\n",
    ")\n",
    "\n",
    "# Results\n",
    "df_mun"
   ]
  },
  {
   "cell_type": "code",
   "execution_count": null,
   "id": "f8d65687",
   "metadata": {},
   "outputs": [],
   "source": [
    "# Junta as informações e salta um arquivo final\n",
    "df_bomb = pd.merge(\n",
    "    gdf,\n",
    "    df,\n",
    "    how='left',\n",
    "    left_on='id_gb',\n",
    "    right_on='id_gb'\n",
    ")\n",
    "\n",
    "df_bomb = pd.merge(\n",
    "    df_mun,\n",
    "    df_bomb,\n",
    "    how='left',\n",
    "    left_on='id_municipio',\n",
    "    right_on='id_mun'\n",
    ")\n",
    "df_bomb.drop(['id_mun'], axis=1, inplace=True)\n",
    "df_bomb"
   ]
  },
  {
   "cell_type": "code",
   "execution_count": null,
   "id": "6473ee49",
   "metadata": {},
   "outputs": [],
   "source": [
    "# Save\n",
    "df_bomb.to_csv(\n",
    "    os.path.join('data', 'tabs', 'tab_municipio_bombeiro.csv'),    \n",
    "    index=False\n",
    ")\n",
    "\n",
    "# Results\n",
    "df_bomb.head()"
   ]
  }
 ],
 "metadata": {
  "kernelspec": {
   "display_name": "pablocarreira-lastest",
   "language": "python",
   "name": "python3"
  },
  "language_info": {
   "codemirror_mode": {
    "name": "ipython",
    "version": 3
   },
   "file_extension": ".py",
   "mimetype": "text/x-python",
   "name": "python",
   "nbconvert_exporter": "python",
   "pygments_lexer": "ipython3",
   "version": "3.10.8"
  },
  "toc-autonumbering": true,
  "vscode": {
   "interpreter": {
    "hash": "3eff2e4eec0fbea9d660dbbf3c9c38e7f3540f855f42d9d14e44150e78f59c2a"
   }
  }
 },
 "nbformat": 4,
 "nbformat_minor": 5
}
