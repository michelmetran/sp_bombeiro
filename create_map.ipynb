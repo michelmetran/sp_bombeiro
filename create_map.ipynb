{
 "cells": [
  {
   "cell_type": "markdown",
   "id": "specified-concert",
   "metadata": {},
   "source": [
    "# Introdução\n",
    "\n",
    "Busca-se tabular as informações sobre a Divisão Administrativa do Corpo de Bombeiros, visando saber qual contatar, qual a área de abrangência de cada um dos \"Grupamentos de Bombeiros\" existentes.\n",
    "\n",
    "No [*site*](http://www.corpodebombeiros.sp.gov.br/) do Corpo de Bombeiros tem mapas em *.jpg* que apresentam a divisão administrativa, indicando qual \"Grupamento de Bombeiros\" atua em cada um dos 645 municípios do Estado de São Paulo.\n",
    "\n",
    "Portanto, a idéia é fazer o *download* das imagens, georreferencia-las. Uma vez feito isso, manualmente, definiu-se na tabela de atributos de um *shapefile* qual o ID do \"Grupamento de Bombeiros\". Uma vez feito isso, torna-se possível \"linkar\" as informações.\n",
    "\n",
    "\n",
    "[sss](https://github.com/michelmetran/sp_bombeiro)"
   ]
  },
  {
   "cell_type": "code",
   "execution_count": null,
   "id": "demographic-steal",
   "metadata": {},
   "outputs": [],
   "source": [
    "import os\n",
    "import re\n",
    "import time\n",
    "import random\n",
    "import requests\n",
    "import numpy as np\n",
    "import pandas as pd\n",
    "import geopandas as gpd\n",
    "\n",
    "from bs4 import BeautifulSoup\n",
    "from osgeo import gdal, osr\n",
    "from tqdm.notebook import trange, tqdm"
   ]
  },
  {
   "cell_type": "markdown",
   "id": "accessory-young",
   "metadata": {},
   "source": [
    "<br>\n",
    "\n",
    "## *Download* de imagens\n",
    "\n",
    "Inicialmente definiu-se uma função genérica, para fazer o *download* de arquivos, renomeando-os."
   ]
  },
  {
   "cell_type": "code",
   "execution_count": null,
   "id": "natural-sweden",
   "metadata": {},
   "outputs": [],
   "source": [
    "# Lê o arquivo csv com o nome dos municípios\n",
    "df = pd.read_csv(\n",
    "    'https://raw.githubusercontent.com/michelmetran/sp_bombeiro/main/data/tabs/tab_municipios_bombeiros.csv',\n",
    ")\n",
    "df.dtypes"
   ]
  },
  {
   "cell_type": "code",
   "execution_count": null,
   "id": "cutting-corpus",
   "metadata": {},
   "outputs": [],
   "source": [
    "# Lê o arquivo csv com o nome dos municípios\n",
    "gdf = gpd.read_file(\n",
    "    'https://raw.githubusercontent.com/michelmetran/sp/main/data/shps/sp_250k_wgs84.geojson',\n",
    ")\n",
    "gdf['id_municipio'] = gdf['id_municipio'].astype(int)\n",
    "gdf.dtypes"
   ]
  },
  {
   "cell_type": "code",
   "execution_count": null,
   "id": "forbidden-sense",
   "metadata": {},
   "outputs": [],
   "source": [
    "# Merge\n",
    "gdf = gdf.merge(\n",
    "    df,\n",
    "    on='id_municipio',\n",
    "    how='left'\n",
    ")\n",
    "\n",
    "# Results\n",
    "gdf.head(3)"
   ]
  },
  {
   "cell_type": "code",
   "execution_count": null,
   "id": "social-sport",
   "metadata": {},
   "outputs": [],
   "source": [
    "gdf.to_file(\n",
    "    os.path.join('data', 'shps', 'sp_250k_wgs84.geojson'),\n",
    "    driver='GeoJSON',\n",
    "    encoding='utf-8'\n",
    ")"
   ]
  },
  {
   "cell_type": "code",
   "execution_count": null,
   "id": "talented-reset",
   "metadata": {},
   "outputs": [],
   "source": []
  },
  {
   "cell_type": "code",
   "execution_count": null,
   "id": "focal-mentor",
   "metadata": {},
   "outputs": [],
   "source": []
  },
  {
   "cell_type": "markdown",
   "id": "downtown-future",
   "metadata": {},
   "source": [
    "___\n",
    "\n",
    "# Encerramento"
   ]
  },
  {
   "cell_type": "markdown",
   "id": "industrial-candy",
   "metadata": {},
   "source": [
    "## *Requirements*"
   ]
  },
  {
   "cell_type": "code",
   "execution_count": null,
   "id": "better-japan",
   "metadata": {},
   "outputs": [],
   "source": [
    "# Input\n",
    "inp = 'get_infos.ipynb'\n",
    "\n",
    "# Output\n",
    "out = os.path.join(inp.split('.')[0])\n",
    "!jupyter-nbconvert $inp --to python --output $out\n",
    "\n",
    "print('-'*80)\n",
    "!pipreqs '.' --force --debug\n",
    "\n",
    "print('-'*80)\n",
    "os.remove('{}.py'.format(out))\n",
    "print('Arquivo {}.py deletado com sucesso!'.format(out))"
   ]
  },
  {
   "cell_type": "markdown",
   "id": "human-eugene",
   "metadata": {},
   "source": [
    "## *GitHub*"
   ]
  },
  {
   "cell_type": "code",
   "execution_count": null,
   "id": "adaptive-saturday",
   "metadata": {},
   "outputs": [],
   "source": [
    "!nbstripout --install --attributes .gitattributes\n",
    "!git status\n",
    "!git add .\n",
    "!git commit -m 'Arrumações Gerais'\n",
    "!git push origin main"
   ]
  }
 ],
 "metadata": {
  "kernelspec": {
   "display_name": "Python [conda env:pablocarreira-py38] *",
   "language": "python",
   "name": "conda-env-pablocarreira-py38-py"
  },
  "language_info": {
   "codemirror_mode": {
    "name": "ipython",
    "version": 3
   },
   "file_extension": ".py",
   "mimetype": "text/x-python",
   "name": "python",
   "nbconvert_exporter": "python",
   "pygments_lexer": "ipython3",
   "version": "3.8.8"
  },
  "toc-autonumbering": true
 },
 "nbformat": 4,
 "nbformat_minor": 5
}
