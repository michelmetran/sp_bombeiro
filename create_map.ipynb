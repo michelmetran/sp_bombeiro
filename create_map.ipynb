{
 "cells": [
  {
   "cell_type": "markdown",
   "id": "accomplished-decimal",
   "metadata": {},
   "source": [
    "# Introdução"
   ]
  },
  {
   "cell_type": "code",
   "execution_count": null,
   "id": "generic-tanzania",
   "metadata": {},
   "outputs": [],
   "source": [
    "import os\n",
    "import re\n",
    "import time\n",
    "import json\n",
    "import folium\n",
    "import random\n",
    "import requests\n",
    "import numpy as np\n",
    "import pandas as pd\n",
    "import seaborn as sns\n",
    "import geopandas as gpd\n",
    "from folium import plugins\n",
    "from osgeo import gdal, osr\n",
    "from bs4 import BeautifulSoup\n",
    "from tqdm.notebook import trange, tqdm\n",
    "from geojson2vt.geojson2vt import geojson2vt"
   ]
  },
  {
   "cell_type": "code",
   "execution_count": null,
   "id": "defined-match",
   "metadata": {},
   "outputs": [],
   "source": [
    "#!pip install geojson2vt"
   ]
  },
  {
   "cell_type": "code",
   "execution_count": null,
   "id": "verified-suggestion",
   "metadata": {},
   "outputs": [],
   "source": [
    "os.makedirs('maps', exist_ok=True)"
   ]
  },
  {
   "cell_type": "markdown",
   "id": "proof-glossary",
   "metadata": {},
   "source": [
    "<br>\n",
    "\n",
    "## Merge Dados Tabulares e Espaciais"
   ]
  },
  {
   "cell_type": "code",
   "execution_count": null,
   "id": "changing-toyota",
   "metadata": {},
   "outputs": [],
   "source": [
    "# Lê o arquivo csv com o nome dos municípios\n",
    "df = pd.read_csv(\n",
    "    'https://raw.githubusercontent.com/michelmetran/sp_bombeiro/main/data/tabs/tab_municipios_bombeiros.csv',\n",
    ")"
   ]
  },
  {
   "cell_type": "code",
   "execution_count": null,
   "id": "legal-median",
   "metadata": {},
   "outputs": [],
   "source": [
    "# Lê o arquivo csv com o nome dos municípios\n",
    "gdf = gpd.read_file(\n",
    "    'https://raw.githubusercontent.com/michelmetran/sp/main/data/shps/sp_250k_wgs84.geojson',\n",
    ")\n",
    "gdf['id_municipio'] = gdf['id_municipio'].astype(int)"
   ]
  },
  {
   "cell_type": "code",
   "execution_count": null,
   "id": "allied-survivor",
   "metadata": {},
   "outputs": [],
   "source": [
    "# Merge\n",
    "gdf = gdf.merge(\n",
    "    df,\n",
    "    on='id_municipio',\n",
    "    how='left'\n",
    ")\n",
    "\n",
    "# Results\n",
    "gdf.head(3)"
   ]
  },
  {
   "cell_type": "markdown",
   "id": "discrete-marina",
   "metadata": {},
   "source": [
    "## Save *geojson*"
   ]
  },
  {
   "cell_type": "code",
   "execution_count": null,
   "id": "legislative-stewart",
   "metadata": {},
   "outputs": [],
   "source": [
    "gdf.to_file(\n",
    "    os.path.join('data', 'shps', 'sp_bombeiros.geojson'),\n",
    "    driver='GeoJSON',\n",
    "    encoding='utf-8'\n",
    ")"
   ]
  },
  {
   "cell_type": "markdown",
   "id": "vanilla-sudan",
   "metadata": {},
   "source": [
    "## Folium"
   ]
  },
  {
   "cell_type": "code",
   "execution_count": null,
   "id": "comic-infrastructure",
   "metadata": {},
   "outputs": [],
   "source": [
    "def map_bomb(input_geojson, input_dataframe):\n",
    "    # I/O\n",
    "    df = pd.read_csv(input_dataframe)\n",
    "    gdf = gpd.read_file(input_geojson)\n",
    "    gdf['id_municipio'] = gdf['id_municipio'].astype(int)\n",
    "\n",
    "    # Merge\n",
    "    gdf = gdf.merge(df, on='id_municipio', how='left')\n",
    "\n",
    "    # Column with category\n",
    "    col_categories = 'gb_nome'\n",
    "\n",
    "    # Set palette\n",
    "    palette_polygon = 'Paired'\n",
    "\n",
    "    # Get list of unique values\n",
    "    categories = set(gdf[col_categories])\n",
    "    categories = list(categories)\n",
    "    categories.sort()\n",
    "\n",
    "    # See the palette chosed\n",
    "    pal = sns.color_palette(palette_polygon, n_colors=len(categories))\n",
    "\n",
    "    # Set dictionary\n",
    "    color_polygon = dict(zip(categories, pal.as_hex()))\n",
    "\n",
    "    # Create Map\n",
    "    m = folium.Map([-23, -47], zoom_start=6)\n",
    "    folium.GeoJson(\n",
    "        gdf,\n",
    "        name='Bombeiros',\n",
    "        smooth_factor=1.0,\n",
    "        zoom_on_click=True,\n",
    "        embed=False,\n",
    "        style_function=lambda x: {\n",
    "            'fillColor': color_polygon[x['properties'][col_categories]],\n",
    "            'color': color_polygon[x['properties'][col_categories]],\n",
    "            'weight': 1,\n",
    "            'fillOpacity': 0.3,\n",
    "        },\n",
    "        highlight_function=lambda x: {'weight': 3},\n",
    "#         tooltip=folium.features.GeoJsonTooltip(\n",
    "#             fields=['gb_nome'],\n",
    "#             aliases=[''],\n",
    "#             sticky=True,\n",
    "#             opacity=0.9,\n",
    "#             direction='right',\n",
    "#         ),\n",
    "        popup=folium.Popup(\n",
    "            'html',\n",
    "            parse_html=False,\n",
    "            max_width='100%',\n",
    "            show=False,\n",
    "            sticky=False\n",
    "        )\n",
    "    ).add_to(m)\n",
    "\n",
    "    # Plugins\n",
    "    m.fit_bounds(m.get_bounds())\n",
    "    plugins.Fullscreen(\n",
    "        position='topleft',\n",
    "        title='Clique para Maximizar',\n",
    "        title_cancel='Mininizar',\n",
    "        #force_separate_button=True,\n",
    "    ).add_to(m)\n",
    "    return m"
   ]
  },
  {
   "cell_type": "code",
   "execution_count": null,
   "id": "mighty-elements",
   "metadata": {},
   "outputs": [],
   "source": [
    "# map_bomb(\n",
    "#     'https://raw.githubusercontent.com/michelmetran/sp/main/data/shps/sp_250k_wgs84.geojson',\n",
    "#     'https://raw.githubusercontent.com/michelmetran/sp_bombeiro/main/data/tabs/tab_municipios_bombeiros.csv'\n",
    "# )\n",
    "\n",
    "map_bomb(\n",
    "    input_geojson=os.path.join('..', 'sp', 'data', 'shps', 'sp_250k_wgs84.geojson'),\n",
    "    input_dataframe=os.path.join('data', 'tabs', 'tab_municipios_bombeiros.csv'),\n",
    ")\n"
   ]
  },
  {
   "cell_type": "markdown",
   "id": "distinguished-taste",
   "metadata": {},
   "source": [
    "# Top FInal Mega ultra!"
   ]
  },
  {
   "cell_type": "code",
   "execution_count": null,
   "id": "constitutional-mexican",
   "metadata": {},
   "outputs": [],
   "source": [
    "# I/O Files\n",
    "input_geojson=os.path.join('..', 'sp', 'data', 'shps', 'sp_250k_wgs84.geojson')\n",
    "input_dataframe=os.path.join('data', 'tabs', 'tab_municipios_bombeiros.csv')"
   ]
  },
  {
   "cell_type": "code",
   "execution_count": null,
   "id": "black-cattle",
   "metadata": {},
   "outputs": [],
   "source": [
    "# I/O\n",
    "df = pd.read_csv(input_dataframe)\n",
    "gdf = gpd.read_file(input_geojson)\n",
    "gdf['id_municipio'] = gdf['id_municipio'].astype(int)\n",
    "\n",
    "# Merge\n",
    "gdf = gdf.merge(df, on='id_municipio', how='left')\n",
    "\n",
    "# Add Field\n",
    "def popup_html(row):\n",
    "    # Fields\n",
    "    gb_nome = row['gb_nome']\n",
    "    comando_nome = row['comando_nome']\n",
    "    comando_sigla = row['comando_sigla']\n",
    "    telefone_2 = row['telefone_2']\n",
    "    \n",
    "    return \"\"\"\n",
    "    <div>\n",
    "    <h4><b>{}</b></h4>\n",
    "    <p><b>Sede:</b><br>\n",
    "    {}{}{}<br>\n",
    "    {}<br>\n",
    "    {}<br>\n",
    "    {}<br>\n",
    "    <p><b>Contatos:</b><br>\n",
    "    {}<br>\n",
    "    {}{}<br></p>\n",
    "    </div>\n",
    "    \"\"\".format(\n",
    "        gb_nome,\n",
    "        '' if row['endereco'] is np.NaN else '{}'.format(row['endereco']),\n",
    "        '' if row['numero'] is np.NaN else ', {}'.format(row['numero']),\n",
    "        '' if row['complemento'] is np.NaN or np.isnan(row['complemento']) else ' - {}'.format(row['complemento']),\n",
    "        '' if row['bairro'] is np.NaN else 'Bairro: {}'.format(row['bairro']),\n",
    "        '' if row['municipio'] is np.NaN else 'Município: {}'.format(row['municipio']),\n",
    "        '' if row['cep'] is np.NaN else 'CEP: {}'.format(row['cep']),\n",
    "        '' if row['email'] is np.NaN else 'E-mail: {}'.format(row['email']),\n",
    "        '' if row['telefone_1'] is np.NaN else 'Telefone: {}'.format(row['telefone_1']),\n",
    "        '' if row['telefone_2'] is np.NaN else ' / {}'.format(row['telefone_2']),\n",
    "    )\n",
    "\n",
    "gdf['popup'] = gdf.apply(popup_html, axis=1)\n",
    "gdf.drop([\n",
    "    'id_municipio', 'endereco', 'numero',\n",
    "    'complemento', 'bairro', 'municipio', \n",
    "    'cep', 'email', 'telefone_1', 'telefone_2',\n",
    "    'id_gbmar', 'id_gb', 'zona',\n",
    "    'comando_sigla', 'comando_nome', \n",
    "], axis=1, inplace=True)\n",
    "print(gdf.columns)\n",
    "\n",
    "# Save geojson\n",
    "gdf.to_file(\n",
    "    os.path.join('data', 'shps', 'sp_bombeiros.geojson'),\n",
    "    driver='GeoJSON',\n",
    "    encoding='utf-8'\n",
    ")"
   ]
  },
  {
   "cell_type": "code",
   "execution_count": null,
   "id": "numerical-hazard",
   "metadata": {},
   "outputs": [],
   "source": [
    "def convert_geojson2topojson(input_geojson, output_topojson, precision):\n",
    "    import fiona\n",
    "    import topojson as tp\n",
    "    \n",
    "    # Open and Convert\n",
    "    with fiona.open(input_geojson) as fio_col:\n",
    "        topo = tp.Topology(fio_col)\n",
    "\n",
    "    # Simplify\n",
    "    topo = topo.toposimplify(precision)\n",
    "\n",
    "    # Output file\n",
    "    topo.to_json(output_topojson)\n",
    "\n",
    "# Convert to TopoJson\n",
    "convert_geojson2topojson(\n",
    "    os.path.join('data', 'shps', 'sp_bombeiros.geojson'),\n",
    "    os.path.join('data', 'shps', 'sp_bombeiros.json'),\n",
    "    0.001\n",
    ")"
   ]
  },
  {
   "cell_type": "code",
   "execution_count": null,
   "id": "pursuant-contractor",
   "metadata": {},
   "outputs": [],
   "source": [
    "# Column with category\n",
    "col_categories = 'gb_nome'\n",
    "\n",
    "# Set palette\n",
    "palette_polygon = 'Paired'\n",
    "\n",
    "# Get list of unique values\n",
    "categories = set(gdf[col_categories])\n",
    "categories = list(categories)\n",
    "categories.sort()\n",
    "\n",
    "# See the palette chosed\n",
    "pal = sns.color_palette(palette_polygon, n_colors=len(categories))\n",
    "\n",
    "# Set dictionary\n",
    "color_polygon = dict(zip(categories, pal.as_hex()))"
   ]
  },
  {
   "cell_type": "code",
   "execution_count": null,
   "id": "attended-morocco",
   "metadata": {},
   "outputs": [],
   "source": [
    "# Cria o mapa\n",
    "m = folium.Map(\n",
    "    location=[-23.9619271,-46.3427499],\n",
    "    zoom_start=12,\n",
    ")\n",
    "\n",
    "# Adiciona as diferentes empresas com gráficos no popup\n",
    "lyr = folium.TopoJson(\n",
    "    open(os.path.join('data', 'shps', 'sp_bombeiros.json')),\n",
    "    object_path='objects.data',\n",
    "    name='São Paulo',\n",
    "    style_function=lambda x: {\n",
    "        'fillColor': color_polygon[x['properties'][col_categories]],\n",
    "        'color': color_polygon[x['properties'][col_categories]],\n",
    "        'weight': 1,\n",
    "        'fillOpacity': 0.3,\n",
    "    },\n",
    "    tooltip=folium.features.GeoJsonTooltip(\n",
    "        fields=['municipio_nome', 'gb_sigla'],\n",
    "        aliases=['Munícipio', 'Grupamento'],\n",
    "        sticky=True,\n",
    "        opacity=0.9,\n",
    "        direction='right',\n",
    "    ),\n",
    "    #popup='test', # Doesnt Work\n",
    ")\n",
    "\n",
    "lyr.add_child(\n",
    "    folium.Popup(\n",
    "        #'test',\n",
    "        gdf['popup'][0],\n",
    "        #lambda x: x['properties']['popup'],\n",
    "        #sticky=False,\n",
    "        #localize=True,\n",
    "        #parse_html=False,\n",
    "        max_width=400\n",
    "    )\n",
    ")    \n",
    "\n",
    "# Add Layer to Map\n",
    "lyr.add_to(m)\n",
    "\n",
    "# Apresenta o mapa\n",
    "m.fit_bounds(m.get_bounds())\n",
    "plugins.Fullscreen(\n",
    "    position='topleft',\n",
    "    title='Clique para Maximizar',\n",
    "    title_cancel='Mininizar',\n",
    ").add_to(m)\n",
    "m"
   ]
  },
  {
   "cell_type": "markdown",
   "id": "dedicated-symbol",
   "metadata": {},
   "source": [
    "## Estudos de Json"
   ]
  },
  {
   "cell_type": "code",
   "execution_count": null,
   "id": "excess-saturday",
   "metadata": {},
   "outputs": [],
   "source": [
    "j = json.load(open(os.path.join('data', 'shps', 'sp_bombeiros.json')))\n",
    "print(j.keys())\n",
    "print(data.keys())"
   ]
  },
  {
   "cell_type": "code",
   "execution_count": null,
   "id": "brutal-price",
   "metadata": {},
   "outputs": [],
   "source": [
    "j = j['objects']['data']['geometries'][0]\n",
    "data = data['objects']['data']['geometries'][0]\n",
    "print(j.keys())\n",
    "print(data.keys())"
   ]
  },
  {
   "cell_type": "code",
   "execution_count": null,
   "id": "protecting-sunglasses",
   "metadata": {},
   "outputs": [],
   "source": [
    "j = j['properties']\n",
    "data = data['properties']\n",
    "print(j.keys())\n",
    "print(data.keys())"
   ]
  },
  {
   "cell_type": "markdown",
   "id": "sexual-planning",
   "metadata": {},
   "source": [
    "## Iterar o Json"
   ]
  },
  {
   "cell_type": "code",
   "execution_count": null,
   "id": "danish-miniature",
   "metadata": {},
   "outputs": [],
   "source": [
    "# Cria o mapa\n",
    "m = folium.Map(\n",
    "    location=[-23.9619271,-46.3427499],\n",
    "    zoom_start=12,\n",
    ")\n",
    "group = folium.FeatureGroup(name='ssss')\n",
    "j = json.load(open(os.path.join('data', 'shps', 'sp_bombeiros.json')))\n",
    "for row in j['objects']['data']['geometries']:\n",
    "    #print(json.dumps({'type': 'Topology', 'objects': {'data': {'geometries': [row]}}}))\n",
    "    #print(json.dumps(row, indent=4, sort_keys=True))\n",
    "    #print('---')\n",
    "    #print(row['properties']['gb_nome'])    \n",
    "    data = {\n",
    "        'type': 'Topology',\n",
    "        'objects': {'data': {'geometries': [row]}},\n",
    "        'bbox': j['bbox'],\n",
    "        'transform': j['transform'],\n",
    "        'arcs': j['arcs'],\n",
    "    }\n",
    "    folium.TopoJson(\n",
    "        data,\n",
    "        object_path='objects.data'\n",
    "    ).add_to(group)\n",
    "\n",
    "group.add_to(m)\n",
    "LayerControl().add_to(m)\n",
    "#m.fit_bounds(m.get_bounds())\n",
    "m"
   ]
  },
  {
   "cell_type": "code",
   "execution_count": null,
   "id": "accomplished-variable",
   "metadata": {},
   "outputs": [],
   "source": [
    "m"
   ]
  },
  {
   "cell_type": "markdown",
   "id": "adult-encoding",
   "metadata": {},
   "source": [
    "## Topo as "
   ]
  },
  {
   "cell_type": "code",
   "execution_count": null,
   "id": "subsequent-hawaii",
   "metadata": {},
   "outputs": [],
   "source": [
    "data"
   ]
  },
  {
   "cell_type": "code",
   "execution_count": null,
   "id": "neither-austin",
   "metadata": {},
   "outputs": [],
   "source": [
    "m = folium.Map([0, 0], zoom_start=7)\n",
    "folium.TopoJson(\n",
    "    data,\n",
    "    object_path='objects.two_squares'\n",
    ").add_to(m)\n",
    "m"
   ]
  },
  {
   "cell_type": "code",
   "execution_count": null,
   "id": "binary-taylor",
   "metadata": {},
   "outputs": [],
   "source": [
    "m = folium.Map([0, 0], zoom_start=7)\n",
    "folium.TopoJson(\n",
    "    {\n",
    "      \"type\":\"Topology\",\n",
    "      \"transform\":{\n",
    "        \"scale\": [1,1],\n",
    "        \"translate\": [0,0]\n",
    "      },\n",
    "      \"objects\":{ \n",
    "        \"two_squares\":{\n",
    "          \"type\": \"GeometryCollection\",\n",
    "          \"geometries\":[\n",
    "            {\"type\": \"Polygon\", \"arcs\":[[0,1]],\"properties\": {\"name\": \"Left_Polygon\" }},\n",
    "            {\"type\": \"Polygon\", \"arcs\":[[2,-1]],\"properties\": {\"name\": \"Right_Polygon\" }}\n",
    "          ]\n",
    "        }\n",
    "      },\n",
    "      \"arcs\": [\n",
    "        [[1,2],[0,-2]],\n",
    "        [[1,0],[-1,0],[0,2],[1,0]],\n",
    "        [[1,2],[1,0],[0,-2],[-1,0]]\n",
    "      ]\n",
    "    },\n",
    "    object_path='objects.two_squares'\n",
    ").add_to(m)\n",
    "m"
   ]
  },
  {
   "cell_type": "code",
   "execution_count": null,
   "id": "fluid-gregory",
   "metadata": {},
   "outputs": [],
   "source": [
    "m.add_child(group)\n",
    "m.add_child(folium.LayerControl())\n",
    "m"
   ]
  },
  {
   "cell_type": "code",
   "execution_count": null,
   "id": "outer-benjamin",
   "metadata": {},
   "outputs": [],
   "source": [
    "    \n",
    "#         style_function=lambda x: {\n",
    "#             'fillColor': color_polygon[x['properties'][col_categories]],\n",
    "#             'color': color_polygon[x['properties'][col_categories]],\n",
    "#             'weight': 1,\n",
    "#             'fillOpacity': 0.3,\n",
    "#         },\n",
    "#         tooltip=folium.features.GeoJsonTooltip(\n",
    "#             fields=['municipio_nome', 'gb_sigla'],\n",
    "#             aliases=['Munícipio', 'Grupamento'],\n",
    "#             sticky=True,\n",
    "#             opacity=0.9,\n",
    "#             direction='right',\n",
    "#         ),\n",
    "        #popup='test', # Doest Work\n",
    "    "
   ]
  },
  {
   "cell_type": "code",
   "execution_count": null,
   "id": "robust-characteristic",
   "metadata": {},
   "outputs": [],
   "source": []
  },
  {
   "cell_type": "code",
   "execution_count": null,
   "id": "collect-milwaukee",
   "metadata": {},
   "outputs": [],
   "source": []
  },
  {
   "cell_type": "markdown",
   "id": "desirable-graham",
   "metadata": {},
   "source": [
    "___\n",
    "\n",
    "# Encerramento"
   ]
  },
  {
   "cell_type": "markdown",
   "id": "headed-coaching",
   "metadata": {},
   "source": [
    "## *Requirements*"
   ]
  },
  {
   "cell_type": "code",
   "execution_count": null,
   "id": "destroyed-midwest",
   "metadata": {},
   "outputs": [],
   "source": [
    "# Input\n",
    "inp = 'get_infos.ipynb'\n",
    "\n",
    "# Output\n",
    "out = os.path.join(inp.split('.')[0])\n",
    "!jupyter-nbconvert $inp --to python --output $out\n",
    "\n",
    "print('-'*80)\n",
    "!pipreqs '.' --force --debug\n",
    "\n",
    "print('-'*80)\n",
    "os.remove('{}.py'.format(out))\n",
    "print('Arquivo {}.py deletado com sucesso!'.format(out))"
   ]
  },
  {
   "cell_type": "markdown",
   "id": "aging-september",
   "metadata": {},
   "source": [
    "## *GitHub*"
   ]
  },
  {
   "cell_type": "code",
   "execution_count": null,
   "id": "wired-curtis",
   "metadata": {},
   "outputs": [],
   "source": [
    "!nbstripout --install --attributes .gitattributes\n",
    "!git status\n",
    "!git add .\n",
    "!git commit -m 'Arrumações Gerais'\n",
    "!git push origin main"
   ]
  },
  {
   "cell_type": "code",
   "execution_count": null,
   "id": "generous-booking",
   "metadata": {},
   "outputs": [],
   "source": []
  }
 ],
 "metadata": {
  "kernelspec": {
   "display_name": "Python [conda env:pablocarreira-py38] *",
   "language": "python",
   "name": "conda-env-pablocarreira-py38-py"
  },
  "language_info": {
   "codemirror_mode": {
    "name": "ipython",
    "version": 3
   },
   "file_extension": ".py",
   "mimetype": "text/x-python",
   "name": "python",
   "nbconvert_exporter": "python",
   "pygments_lexer": "ipython3",
   "version": "3.8.8"
  },
  "toc-autonumbering": true
 },
 "nbformat": 4,
 "nbformat_minor": 5
}
